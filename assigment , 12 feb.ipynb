{
 "cells": [
  {
   "cell_type": "code",
   "execution_count": 1,
   "id": "d50e959d-529e-48da-8715-c0999d87baa9",
   "metadata": {},
   "outputs": [],
   "source": [
    "# Q1. What is an Exception in python? Write the differene between Exceptions and $\n",
    "# syntax error\n",
    "\n",
    "# ans = In Python, an exception is an error that occurs during the execution of a program. When an exception is raised, the normal flow of a program is disrupted, and the program will terminate unless the exception is handled.\n",
    "\n",
    "# Syntax errors, on the other hand, occur when the code is not written in a valid syntax. These errors occur when the Python interpreter cannot parse the code, and they are typically detected before the code is executed.\n",
    "\n",
    "# The main difference between exceptions and syntax errors is that exceptions occur during the execution of a program, while syntax errors occur before the code is executed. Additionally, syntax errors are typically caused by errors in the code itself, while exceptions can be caused by a variety of factors, such as invalid input, file system errors, or network errors. Finally, syntax errors are usually easy to spot, as they are reported by the Python interpreter, while exceptions can be harder to diagnose, as they may be caused by a variety of factors and require more investigation to determine the root cause.\n",
    "\n"
   ]
  },
  {
   "cell_type": "code",
   "execution_count": 4,
   "id": "a27597d5-73a7-4d75-a1e2-bd8783d0bc05",
   "metadata": {},
   "outputs": [],
   "source": [
    "# Q2. What happened when an expection is not happened? Explain with an example in python \n",
    "\n",
    "# ans = When an exception is not handled in Python, the program will terminate and an error message will be displayed, indicating the type of exception that was raised and the line number where it occurred. This can be problematic for users, as they may not understand the error message or be able to fix the issue themselves.\n",
    "\n",
    "# Here's an example of what happens when an exception is not handled in Python:\n",
    "\n",
    "numerator = 10\n",
    "denominator = 0\n",
    "result = numerator / denominator\n",
    "print(result)\n",
    "# In this example, we're trying to divide 10 by 0, which is not a \n",
    "# valid mathematical operation.\n",
    "# This will result in a ZeroDivisionError being raised"
   ]
  },
  {
   "cell_type": "code",
   "execution_count": 5,
   "id": "87b9234e-9b9a-4a8a-a234-b50b6477a501",
   "metadata": {},
   "outputs": [
    {
     "name": "stdout",
     "output_type": "stream",
     "text": [
      "Error: Division by zero!\n"
     ]
    }
   ],
   "source": [
    "# Q3.Which python statements are used to catch and handle exception? Explain with an example \n",
    "\n",
    "# ans =  the try and except statements are used to catch and handle exceptions. The try statement is used to define a block of code to be tested for errors, while the except statement is used to define a block of code to be executed if an error occurs.\n",
    "\n",
    "# Here's an example of how to use the try and except statements to catch and handle exceptions in Python:\n",
    "\n",
    "try:\n",
    "    numerator = 10\n",
    "    denominator = 0\n",
    "    result = numerator / denominator\n",
    "    print(result)\n",
    "except ZeroDivisionError:\n",
    "    print(\"Error: Division by zero!\")\n"
   ]
  },
  {
   "cell_type": "code",
   "execution_count": 7,
   "id": "a4258717-8351-46d4-b848-cfe69cec5a6a",
   "metadata": {},
   "outputs": [],
   "source": [
    "# Q4. Explian with an example :\n",
    "#     a.try and else\n",
    "#     b.finally\n",
    "#     c.raise\n",
    "\n",
    "try:\n",
    "    file = open(\"example.txt\", \"r\")\n",
    "    data = file.read()\n",
    "    print(data)\n",
    "except FileNotFoundError:\n",
    "    print(\"Error: File not found!\")\n",
    "else:\n",
    "    print(\"File read successfully!\")\n",
    "finally:\n",
    "    if file:\n",
    "        file.close()\n",
    "    print(\"Finished!\")\n",
    "# we're trying to open a file called \"example.txt\" and read its contents. We've used a try block to define the code that we want to test for errors, an except block to define the code that we want to execute if a FileNotFoundError occurs, an else block to define the code that we want to execute if the try block is successful, and a finally block to define the code that we want to execute regardless of whether an exception occurs.\n",
    "\n",
    "# When the code is executed, the try block will be tested for errors. If the file is found and successfully read, the code inside the else block will be executed, and the message \"File read successfully!\" will be printed to the console. If a FileNotFoundError occurs, the code inside the except block will be executed, and the message \"Error: File not found!\" will be printed to the console. Regardless of whether an exception occurs or not, the code inside the finally block will be executed. In this case, we're closing the file (if it was successfully opened) and printing the message \"Finished!\" to the console.\n",
    "\n",
    "# By using these statements together, we can handle exceptions, perform cleanup tasks, and provide feedback to users about the success or failure of our operations."
   ]
  },
  {
   "cell_type": "code",
   "execution_count": 9,
   "id": "2f66e6a2-783a-41a5-8174-cea5eb99c823",
   "metadata": {},
   "outputs": [
    {
     "name": "stdin",
     "output_type": "stream",
     "text": [
      "Enter your age:  56\n"
     ]
    },
    {
     "name": "stdout",
     "output_type": "stream",
     "text": [
      "Welcome!\n"
     ]
    }
   ],
   "source": [
    "# Q5 . what are custom exception in python ? why do we need custom exception ? explain with an example\n",
    "\n",
    "# ans = \n",
    "#     we can define custom exceptions using the class statement.\n",
    "#     Custom exceptions allow us to create our own exception types that\n",
    "#     can be raised and caught like any other exception, and they can be\n",
    "#     used to signal specific errors or conditions in our code.\n",
    "\n",
    "#     We need custom exceptions when we want to handle specific errors or \n",
    "#     conditions that are not already covered by the built-in exceptions \n",
    "#     in Python. By defining our own exceptions, we can provide more descriptive\n",
    "#     error messages and make our code more readable and maintainable.\n",
    "    \n",
    "    \n",
    "class InvalidAgeException(Exception):\n",
    "    def _init_(self, age):\n",
    "        self.age = age\n",
    "        self.message = f\"Invalid age: {age}. Age must be between 18 and 65.\"\n",
    "\n",
    "try:\n",
    "    age = int(input(\"Enter your age: \"))\n",
    "    if age < 18 or age > 65:\n",
    "        raise InvalidAgeException(age)\n",
    "except InvalidAgeException as e:\n",
    "    print(e.message)\n",
    "else:\n",
    "    print(\"Welcome!\")"
   ]
  },
  {
   "cell_type": "code",
   "execution_count": 11,
   "id": "8dd48978-b855-4627-95a8-1d57a014ff05",
   "metadata": {},
   "outputs": [
    {
     "name": "stdin",
     "output_type": "stream",
     "text": [
      "Enter a positive number:  55\n"
     ]
    },
    {
     "name": "stdout",
     "output_type": "stream",
     "text": [
      "Square of 55 is 3025\n"
     ]
    }
   ],
   "source": [
    "# Q6. Create a custom exception class . Use this class to handle an exception in python\n",
    "\n",
    "# ans = \n",
    "class NegativeNumberException(Exception):\n",
    "    def _init_(self, number):\n",
    "        self.number = number\n",
    "        self.message = f\"Error: Negative number {number} not allowed.\"\n",
    "\n",
    "try:\n",
    "    x = int(input(\"Enter a positive number: \"))\n",
    "    if x < 0:\n",
    "        raise NegativeNumberException(x)\n",
    "    else:\n",
    "        print(f\"Square of {x} is {x ** 2}\")\n",
    "except NegativeNumberException as e:\n",
    "    print(e.message)"
   ]
  },
  {
   "cell_type": "code",
   "execution_count": null,
   "id": "f4387a90-d00d-45dd-8a17-4a181ccd878f",
   "metadata": {},
   "outputs": [],
   "source": []
  }
 ],
 "metadata": {
  "kernelspec": {
   "display_name": "Python 3 (ipykernel)",
   "language": "python",
   "name": "python3"
  },
  "language_info": {
   "codemirror_mode": {
    "name": "ipython",
    "version": 3
   },
   "file_extension": ".py",
   "mimetype": "text/x-python",
   "name": "python",
   "nbconvert_exporter": "python",
   "pygments_lexer": "ipython3",
   "version": "3.10.8"
  }
 },
 "nbformat": 4,
 "nbformat_minor": 5
}
